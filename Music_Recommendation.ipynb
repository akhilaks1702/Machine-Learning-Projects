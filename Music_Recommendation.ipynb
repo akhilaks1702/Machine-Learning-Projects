{
 "cells": [
  {
   "cell_type": "code",
   "execution_count": null,
   "id": "5b2dc651-82c2-456c-83d5-57fccdc2e5de",
   "metadata": {},
   "outputs": [],
   "source": [
    "import pandas as pd \n",
    "from sklearn.tree import DecisionTreeClassifier \n",
    "from sklearn.model_selection import train_test_split \n",
    "from sklearn.metrics import accuracy_score\n",
    "\n",
    "music_data = pd.read_csv('music.csv') \n",
    "X = music_data.drop(columns=['genre']) \n",
    "y = music_data['genre'] \n",
    "X_train, X_test, y_train, y_test = train_test_split(X, y, test_size = 0.2)\n",
    "\n",
    "model = DecisionTreeClassifier() \n",
    "model.fit(X_train, y_train) \n",
    "\n",
    "def predict_genre(age, gender):\n",
    "    input_data = pd.DataFrame({'age': [age], 'gender': [gender]})\n",
    "    prediction = model.predict(input_data)\n",
    "    return prediction[0]\n",
    "\n",
    "age = int(input(\"Enter the age: \"))\n",
    "gender = int(input(\"Enter gender (0 for female, 1 for male): \"))\n",
    "\n",
    "predicted_genre = predict_genre(age, gender)\n",
    "print(f\"The predicted genre for age {age} and gender {gender} is: {predicted_genre}\")\n",
    "\n",
    "predictions = model.predict(X_test)\n",
    "score = accuracy_score(y_test, predictions) \n",
    "print(f\"Accuracy score is: {score}\")\n"
   ]
  },
  {
   "cell_type": "code",
   "execution_count": null,
   "id": "66b0cb83-faba-4bd5-8c84-67b4432837ad",
   "metadata": {},
   "outputs": [],
   "source": []
  }
 ],
 "metadata": {
  "kernelspec": {
   "display_name": "Python [conda env:base] *",
   "language": "python",
   "name": "conda-base-py"
  },
  "language_info": {
   "codemirror_mode": {
    "name": "ipython",
    "version": 3
   },
   "file_extension": ".py",
   "mimetype": "text/x-python",
   "name": "python",
   "nbconvert_exporter": "python",
   "pygments_lexer": "ipython3",
   "version": "3.12.7"
  }
 },
 "nbformat": 4,
 "nbformat_minor": 5
}
